{
 "cells": [
  {
   "cell_type": "code",
   "execution_count": 1,
   "metadata": {},
   "outputs": [
    {
     "name": "stdout",
     "output_type": "stream",
     "text": [
      "Requirement already satisfied: firebase_admin in /Users/ethanpark/anaconda3/lib/python3.10/site-packages (6.2.0)\n",
      "Requirement already satisfied: pyjwt[crypto]>=2.5.0 in /Users/ethanpark/anaconda3/lib/python3.10/site-packages (from firebase_admin) (2.8.0)\n",
      "Requirement already satisfied: google-cloud-storage>=1.37.1 in /Users/ethanpark/anaconda3/lib/python3.10/site-packages (from firebase_admin) (2.13.0)\n",
      "Requirement already satisfied: google-api-python-client>=1.7.8 in /Users/ethanpark/anaconda3/lib/python3.10/site-packages (from firebase_admin) (2.108.0)\n",
      "Requirement already satisfied: google-cloud-firestore>=2.9.1 in /Users/ethanpark/anaconda3/lib/python3.10/site-packages (from firebase_admin) (2.13.1)\n",
      "Requirement already satisfied: google-api-core[grpc]<3.0.0dev,>=1.22.1 in /Users/ethanpark/anaconda3/lib/python3.10/site-packages (from firebase_admin) (2.14.0)\n",
      "Requirement already satisfied: cachecontrol>=0.12.6 in /Users/ethanpark/anaconda3/lib/python3.10/site-packages (from firebase_admin) (0.13.1)\n",
      "Requirement already satisfied: requests>=2.16.0 in /Users/ethanpark/anaconda3/lib/python3.10/site-packages (from cachecontrol>=0.12.6->firebase_admin) (2.28.1)\n",
      "Requirement already satisfied: msgpack>=0.5.2 in /Users/ethanpark/anaconda3/lib/python3.10/site-packages (from cachecontrol>=0.12.6->firebase_admin) (1.0.3)\n",
      "Requirement already satisfied: google-auth<3.0.dev0,>=2.14.1 in /Users/ethanpark/anaconda3/lib/python3.10/site-packages (from google-api-core[grpc]<3.0.0dev,>=1.22.1->firebase_admin) (2.23.4)\n",
      "Requirement already satisfied: protobuf!=3.20.0,!=3.20.1,!=4.21.0,!=4.21.1,!=4.21.2,!=4.21.3,!=4.21.4,!=4.21.5,<5.0.0.dev0,>=3.19.5 in /Users/ethanpark/anaconda3/lib/python3.10/site-packages (from google-api-core[grpc]<3.0.0dev,>=1.22.1->firebase_admin) (4.21.12)\n",
      "Requirement already satisfied: googleapis-common-protos<2.0.dev0,>=1.56.2 in /Users/ethanpark/anaconda3/lib/python3.10/site-packages (from google-api-core[grpc]<3.0.0dev,>=1.22.1->firebase_admin) (1.61.0)\n",
      "Requirement already satisfied: grpcio<2.0dev,>=1.33.2 in /Users/ethanpark/anaconda3/lib/python3.10/site-packages (from google-api-core[grpc]<3.0.0dev,>=1.22.1->firebase_admin) (1.59.2)\n",
      "Requirement already satisfied: grpcio-status<2.0.dev0,>=1.33.2 in /Users/ethanpark/anaconda3/lib/python3.10/site-packages (from google-api-core[grpc]<3.0.0dev,>=1.22.1->firebase_admin) (1.59.2)\n",
      "Requirement already satisfied: httplib2<1.dev0,>=0.15.0 in /Users/ethanpark/anaconda3/lib/python3.10/site-packages (from google-api-python-client>=1.7.8->firebase_admin) (0.22.0)\n",
      "Requirement already satisfied: google-auth-httplib2>=0.1.0 in /Users/ethanpark/anaconda3/lib/python3.10/site-packages (from google-api-python-client>=1.7.8->firebase_admin) (0.1.1)\n",
      "Requirement already satisfied: uritemplate<5,>=3.0.1 in /Users/ethanpark/anaconda3/lib/python3.10/site-packages (from google-api-python-client>=1.7.8->firebase_admin) (4.1.1)\n",
      "Requirement already satisfied: google-cloud-core<3.0.0dev,>=1.4.1 in /Users/ethanpark/anaconda3/lib/python3.10/site-packages (from google-cloud-firestore>=2.9.1->firebase_admin) (2.3.3)\n",
      "Requirement already satisfied: proto-plus<2.0.0dev,>=1.22.0 in /Users/ethanpark/anaconda3/lib/python3.10/site-packages (from google-cloud-firestore>=2.9.1->firebase_admin) (1.22.3)\n",
      "Requirement already satisfied: google-crc32c<2.0dev,>=1.0 in /Users/ethanpark/anaconda3/lib/python3.10/site-packages (from google-cloud-storage>=1.37.1->firebase_admin) (1.5.0)\n",
      "Requirement already satisfied: google-resumable-media>=2.6.0 in /Users/ethanpark/anaconda3/lib/python3.10/site-packages (from google-cloud-storage>=1.37.1->firebase_admin) (2.6.0)\n",
      "Requirement already satisfied: cryptography>=3.4.0 in /Users/ethanpark/anaconda3/lib/python3.10/site-packages (from pyjwt[crypto]>=2.5.0->firebase_admin) (39.0.1)\n",
      "Requirement already satisfied: cffi>=1.12 in /Users/ethanpark/anaconda3/lib/python3.10/site-packages (from cryptography>=3.4.0->pyjwt[crypto]>=2.5.0->firebase_admin) (1.15.1)\n",
      "Requirement already satisfied: pyasn1-modules>=0.2.1 in /Users/ethanpark/anaconda3/lib/python3.10/site-packages (from google-auth<3.0.dev0,>=2.14.1->google-api-core[grpc]<3.0.0dev,>=1.22.1->firebase_admin) (0.2.8)\n",
      "Requirement already satisfied: rsa<5,>=3.1.4 in /Users/ethanpark/anaconda3/lib/python3.10/site-packages (from google-auth<3.0.dev0,>=2.14.1->google-api-core[grpc]<3.0.0dev,>=1.22.1->firebase_admin) (4.9)\n",
      "Requirement already satisfied: cachetools<6.0,>=2.0.0 in /Users/ethanpark/anaconda3/lib/python3.10/site-packages (from google-auth<3.0.dev0,>=2.14.1->google-api-core[grpc]<3.0.0dev,>=1.22.1->firebase_admin) (5.3.1)\n",
      "Requirement already satisfied: pyparsing!=3.0.0,!=3.0.1,!=3.0.2,!=3.0.3,<4,>=2.4.2 in /Users/ethanpark/anaconda3/lib/python3.10/site-packages (from httplib2<1.dev0,>=0.15.0->google-api-python-client>=1.7.8->firebase_admin) (3.0.9)\n",
      "Requirement already satisfied: urllib3<1.27,>=1.21.1 in /Users/ethanpark/anaconda3/lib/python3.10/site-packages (from requests>=2.16.0->cachecontrol>=0.12.6->firebase_admin) (1.26.14)\n",
      "Requirement already satisfied: idna<4,>=2.5 in /Users/ethanpark/anaconda3/lib/python3.10/site-packages (from requests>=2.16.0->cachecontrol>=0.12.6->firebase_admin) (3.4)\n",
      "Requirement already satisfied: charset-normalizer<3,>=2 in /Users/ethanpark/anaconda3/lib/python3.10/site-packages (from requests>=2.16.0->cachecontrol>=0.12.6->firebase_admin) (2.0.4)\n",
      "Requirement already satisfied: certifi>=2017.4.17 in /Users/ethanpark/anaconda3/lib/python3.10/site-packages (from requests>=2.16.0->cachecontrol>=0.12.6->firebase_admin) (2023.7.22)\n",
      "Requirement already satisfied: pycparser in /Users/ethanpark/anaconda3/lib/python3.10/site-packages (from cffi>=1.12->cryptography>=3.4.0->pyjwt[crypto]>=2.5.0->firebase_admin) (2.21)\n",
      "Requirement already satisfied: pyasn1<0.5.0,>=0.4.6 in /Users/ethanpark/anaconda3/lib/python3.10/site-packages (from pyasn1-modules>=0.2.1->google-auth<3.0.dev0,>=2.14.1->google-api-core[grpc]<3.0.0dev,>=1.22.1->firebase_admin) (0.4.8)\n",
      "Note: you may need to restart the kernel to use updated packages.\n"
     ]
    }
   ],
   "source": [
    "%pip install firebase_admin"
   ]
  },
  {
   "cell_type": "code",
   "execution_count": 2,
   "metadata": {},
   "outputs": [],
   "source": [
    "import firebase_admin\n",
    "from firebase_admin import credentials\n",
    "from firebase_admin import db\n",
    "\n",
    "import pandas as pd\n",
    "\n",
    "from helper import compare, select, pprint, order"
   ]
  },
  {
   "cell_type": "code",
   "execution_count": 3,
   "metadata": {},
   "outputs": [],
   "source": [
    "# firebase_admin.delete_app(firebase_admin.get_app())"
   ]
  },
  {
   "cell_type": "code",
   "execution_count": 4,
   "metadata": {},
   "outputs": [],
   "source": [
    "METROS = 'metros'"
   ]
  },
  {
   "cell_type": "code",
   "execution_count": 5,
   "metadata": {},
   "outputs": [],
   "source": [
    "cred = credentials.Certificate(\"./project-d247d-firebase-adminsdk-hpskj-b7566ae1c5.json\")\n",
    "\n",
    "default_app = firebase_admin.initialize_app(cred, {\n",
    "\t'databaseURL': 'https://project-d247d-default-rtdb.firebaseio.com/',\n",
    "})"
   ]
  },
  {
   "cell_type": "code",
   "execution_count": 6,
   "metadata": {},
   "outputs": [
    {
     "name": "stdout",
     "output_type": "stream",
     "text": [
      "{'metro': 'Green Bay', 'population': 320050, 'region': 'WI', 'teams': ['Green Bay Packers', 'Green Bay Phoenix', 'Green Bay Phoenix', 'Green Bay Phoenix', 'Green Bay Phoenix']}\n"
     ]
    }
   ],
   "source": [
    "METROS_REF = db.reference(METROS).get()\n",
    "print(METROS_REF[0])"
   ]
  },
  {
   "cell_type": "code",
   "execution_count": 7,
   "metadata": {},
   "outputs": [
    {
     "name": "stdout",
     "output_type": "stream",
     "text": [
      "       metro  population\n",
      "0  Green Bay      320050\n",
      "1     Sarnia       96151\n",
      "2   Hamilton      747545\n",
      "3     Regina      236481\n",
      "4   Edmonton     1321426\n"
     ]
    }
   ],
   "source": [
    "# SELECT\n",
    "COLS = ['metro', 'population']\n",
    "\n",
    "res = [select(obj, COLS) for obj in METROS_REF]\n",
    "pprint(res)"
   ]
  },
  {
   "cell_type": "code",
   "execution_count": 8,
   "metadata": {},
   "outputs": [
    {
     "name": "stdout",
     "output_type": "stream",
     "text": [
      "      metro  population region  \\\n",
      "0  Hamilton      747545     ON   \n",
      "1  Edmonton     1321426     AB   \n",
      "2  Winnipeg      778489     MB   \n",
      "3    Ottawa     1323783     ON   \n",
      "4  Montreal     4098927     QC   \n",
      "\n",
      "                                               teams  \n",
      "0  [Hamilton Alerts, Hamilton Flying Wildcats, Ha...  \n",
      "1  [Edmonton Elks, Edmonton Eskimos, Edmonton Oil...  \n",
      "2  [Winnipeg ‘Pegs, Winnipeg Blue Bombers, Winnip...  \n",
      "3  [Ottawa Redblacks, Ottaw Renegades, Ottawa Rou...  \n",
      "4  [Montreal Expos, Montreal AAA Winged Wheelers,...  \n"
     ]
    }
   ],
   "source": [
    "# FILTER\n",
    "FIELD = 'population'\n",
    "OPERATOR = '>='\n",
    "VALUE = '320051'\n",
    "\n",
    "res = [obj for obj in METROS_REF if compare(obj[FIELD], OPERATOR, VALUE)]\n",
    "pprint(res)"
   ]
  },
  {
   "cell_type": "code",
   "execution_count": 9,
   "metadata": {},
   "outputs": [
    {
     "name": "stdout",
     "output_type": "stream",
     "text": [
      "  region      min      max      sum  count           avg\n",
      "0     WI        0  1576236  2802998      9  3.114442e+05\n",
      "1     ON    96151  5928040  8095519      4  2.023880e+06\n",
      "2     SK   236481   236481   236481      1  2.364810e+05\n",
      "3     AB  1321426  1392609  2714035      2  1.357018e+06\n",
      "4     MB   778489   778489   778489      1  7.784890e+05\n"
     ]
    }
   ],
   "source": [
    "# GROUPING/AGGREGATION\n",
    "FIELD = 'region'\n",
    "AGGS = ['count', 'sum', 'avg', 'min', 'max']\n",
    "AGG_COL = 'population'\n",
    "\n",
    "groups = {}\n",
    "for obj in METROS_REF:\n",
    "    if obj[FIELD] in groups:\n",
    "        groups[obj[FIELD]].append(obj)\n",
    "    else:\n",
    "        groups[obj[FIELD]] = [obj]\n",
    "\n",
    "aggs = []\n",
    "for region_group, metro in groups.items():\n",
    "    obj = {}\n",
    "    obj[FIELD] = region_group\n",
    "\n",
    "    obj['min'], obj['max'] = float('inf'), float('-inf')\n",
    "    obj['sum'] = 0\n",
    "    for metro_area in metro:\n",
    "        val = metro_area[AGG_COL]\n",
    "        obj['min'] = min(val, obj['min'])\n",
    "        obj['max'] = max(val, obj['max'])\n",
    "        obj['sum'] += val\n",
    "    obj['count'] = len(metro)\n",
    "    obj['avg'] = obj['sum'] / len(metro)\n",
    "\n",
    "    aggs.append(obj)\n",
    "\n",
    "pprint(aggs)"
   ]
  },
  {
   "cell_type": "code",
   "execution_count": 10,
   "metadata": {},
   "outputs": [
    {
     "name": "stdout",
     "output_type": "stream",
     "text": [
      "                 metro  population region  \\\n",
      "0  New York Metro Area    20320876          \n",
      "1  Greater Los Angeles    13353907     CA   \n",
      "2              Chicago     9533040     IL   \n",
      "3    Dallas-Fort Worth     7399662     TX   \n",
      "4              Houston     6892427     TX   \n",
      "\n",
      "                                               teams  \n",
      "0  [Brooklyn Dodgers, Brooklyn Robins, Brooklyn S...  \n",
      "1  [Anaheim Angels, California Angels, Los Angele...  \n",
      "2  [Chicago Cubs, Chicago White Sox, Chicago Bull...  \n",
      "3  [Texas Rangers, Dallas Mavericks, Dallas Cowbo...  \n",
      "4  [Houston Astros, Houston Colt .45's, Houston R...  \n"
     ]
    }
   ],
   "source": [
    "FIELD = 'population'\n",
    "OPERATOR = 'asc'\n",
    "\n",
    "a = [(obj[FIELD], obj) for obj in METROS_REF]\n",
    "res = order(a, OPERATOR)\n",
    "pprint(res)"
   ]
  }
 ],
 "metadata": {
  "kernelspec": {
   "display_name": "base",
   "language": "python",
   "name": "python3"
  },
  "language_info": {
   "codemirror_mode": {
    "name": "ipython",
    "version": 3
   },
   "file_extension": ".py",
   "mimetype": "text/x-python",
   "name": "python",
   "nbconvert_exporter": "python",
   "pygments_lexer": "ipython3",
   "version": "3.10.9"
  }
 },
 "nbformat": 4,
 "nbformat_minor": 2
}
