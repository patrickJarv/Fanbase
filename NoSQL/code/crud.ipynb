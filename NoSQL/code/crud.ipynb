{
 "cells": [
  {
   "cell_type": "code",
   "execution_count": 1,
   "metadata": {},
   "outputs": [
    {
     "name": "stdout",
     "output_type": "stream",
     "text": [
      "Requirement already satisfied: firebase_admin in /Users/ethanpark/anaconda3/lib/python3.10/site-packages (6.2.0)\n",
      "Requirement already satisfied: google-cloud-firestore>=2.9.1 in /Users/ethanpark/anaconda3/lib/python3.10/site-packages (from firebase_admin) (2.13.1)\n",
      "Requirement already satisfied: cachecontrol>=0.12.6 in /Users/ethanpark/anaconda3/lib/python3.10/site-packages (from firebase_admin) (0.13.1)\n",
      "Requirement already satisfied: google-api-python-client>=1.7.8 in /Users/ethanpark/anaconda3/lib/python3.10/site-packages (from firebase_admin) (2.108.0)\n",
      "Requirement already satisfied: pyjwt[crypto]>=2.5.0 in /Users/ethanpark/anaconda3/lib/python3.10/site-packages (from firebase_admin) (2.8.0)\n",
      "Requirement already satisfied: google-api-core[grpc]<3.0.0dev,>=1.22.1 in /Users/ethanpark/anaconda3/lib/python3.10/site-packages (from firebase_admin) (2.14.0)\n",
      "Requirement already satisfied: google-cloud-storage>=1.37.1 in /Users/ethanpark/anaconda3/lib/python3.10/site-packages (from firebase_admin) (2.13.0)\n",
      "Requirement already satisfied: msgpack>=0.5.2 in /Users/ethanpark/anaconda3/lib/python3.10/site-packages (from cachecontrol>=0.12.6->firebase_admin) (1.0.3)\n",
      "Requirement already satisfied: requests>=2.16.0 in /Users/ethanpark/anaconda3/lib/python3.10/site-packages (from cachecontrol>=0.12.6->firebase_admin) (2.28.1)\n",
      "Requirement already satisfied: googleapis-common-protos<2.0.dev0,>=1.56.2 in /Users/ethanpark/anaconda3/lib/python3.10/site-packages (from google-api-core[grpc]<3.0.0dev,>=1.22.1->firebase_admin) (1.61.0)\n",
      "Requirement already satisfied: protobuf!=3.20.0,!=3.20.1,!=4.21.0,!=4.21.1,!=4.21.2,!=4.21.3,!=4.21.4,!=4.21.5,<5.0.0.dev0,>=3.19.5 in /Users/ethanpark/anaconda3/lib/python3.10/site-packages (from google-api-core[grpc]<3.0.0dev,>=1.22.1->firebase_admin) (4.21.12)\n",
      "Requirement already satisfied: google-auth<3.0.dev0,>=2.14.1 in /Users/ethanpark/anaconda3/lib/python3.10/site-packages (from google-api-core[grpc]<3.0.0dev,>=1.22.1->firebase_admin) (2.23.4)\n",
      "Requirement already satisfied: grpcio-status<2.0.dev0,>=1.33.2 in /Users/ethanpark/anaconda3/lib/python3.10/site-packages (from google-api-core[grpc]<3.0.0dev,>=1.22.1->firebase_admin) (1.59.2)\n",
      "Requirement already satisfied: grpcio<2.0dev,>=1.33.2 in /Users/ethanpark/anaconda3/lib/python3.10/site-packages (from google-api-core[grpc]<3.0.0dev,>=1.22.1->firebase_admin) (1.59.2)\n",
      "Requirement already satisfied: google-auth-httplib2>=0.1.0 in /Users/ethanpark/anaconda3/lib/python3.10/site-packages (from google-api-python-client>=1.7.8->firebase_admin) (0.1.1)\n",
      "Requirement already satisfied: uritemplate<5,>=3.0.1 in /Users/ethanpark/anaconda3/lib/python3.10/site-packages (from google-api-python-client>=1.7.8->firebase_admin) (4.1.1)\n",
      "Requirement already satisfied: httplib2<1.dev0,>=0.15.0 in /Users/ethanpark/anaconda3/lib/python3.10/site-packages (from google-api-python-client>=1.7.8->firebase_admin) (0.22.0)\n",
      "Requirement already satisfied: google-cloud-core<3.0.0dev,>=1.4.1 in /Users/ethanpark/anaconda3/lib/python3.10/site-packages (from google-cloud-firestore>=2.9.1->firebase_admin) (2.3.3)\n",
      "Requirement already satisfied: proto-plus<2.0.0dev,>=1.22.0 in /Users/ethanpark/anaconda3/lib/python3.10/site-packages (from google-cloud-firestore>=2.9.1->firebase_admin) (1.22.3)\n",
      "Requirement already satisfied: google-resumable-media>=2.6.0 in /Users/ethanpark/anaconda3/lib/python3.10/site-packages (from google-cloud-storage>=1.37.1->firebase_admin) (2.6.0)\n",
      "Requirement already satisfied: google-crc32c<2.0dev,>=1.0 in /Users/ethanpark/anaconda3/lib/python3.10/site-packages (from google-cloud-storage>=1.37.1->firebase_admin) (1.5.0)\n",
      "Requirement already satisfied: cryptography>=3.4.0 in /Users/ethanpark/anaconda3/lib/python3.10/site-packages (from pyjwt[crypto]>=2.5.0->firebase_admin) (39.0.1)\n",
      "Requirement already satisfied: cffi>=1.12 in /Users/ethanpark/anaconda3/lib/python3.10/site-packages (from cryptography>=3.4.0->pyjwt[crypto]>=2.5.0->firebase_admin) (1.15.1)\n",
      "Requirement already satisfied: rsa<5,>=3.1.4 in /Users/ethanpark/anaconda3/lib/python3.10/site-packages (from google-auth<3.0.dev0,>=2.14.1->google-api-core[grpc]<3.0.0dev,>=1.22.1->firebase_admin) (4.9)\n",
      "Requirement already satisfied: cachetools<6.0,>=2.0.0 in /Users/ethanpark/anaconda3/lib/python3.10/site-packages (from google-auth<3.0.dev0,>=2.14.1->google-api-core[grpc]<3.0.0dev,>=1.22.1->firebase_admin) (5.3.1)\n",
      "Requirement already satisfied: pyasn1-modules>=0.2.1 in /Users/ethanpark/anaconda3/lib/python3.10/site-packages (from google-auth<3.0.dev0,>=2.14.1->google-api-core[grpc]<3.0.0dev,>=1.22.1->firebase_admin) (0.2.8)\n",
      "Requirement already satisfied: pyparsing!=3.0.0,!=3.0.1,!=3.0.2,!=3.0.3,<4,>=2.4.2 in /Users/ethanpark/anaconda3/lib/python3.10/site-packages (from httplib2<1.dev0,>=0.15.0->google-api-python-client>=1.7.8->firebase_admin) (3.0.9)\n",
      "Requirement already satisfied: certifi>=2017.4.17 in /Users/ethanpark/anaconda3/lib/python3.10/site-packages (from requests>=2.16.0->cachecontrol>=0.12.6->firebase_admin) (2023.7.22)\n",
      "Requirement already satisfied: urllib3<1.27,>=1.21.1 in /Users/ethanpark/anaconda3/lib/python3.10/site-packages (from requests>=2.16.0->cachecontrol>=0.12.6->firebase_admin) (1.26.14)\n",
      "Requirement already satisfied: charset-normalizer<3,>=2 in /Users/ethanpark/anaconda3/lib/python3.10/site-packages (from requests>=2.16.0->cachecontrol>=0.12.6->firebase_admin) (2.0.4)\n",
      "Requirement already satisfied: idna<4,>=2.5 in /Users/ethanpark/anaconda3/lib/python3.10/site-packages (from requests>=2.16.0->cachecontrol>=0.12.6->firebase_admin) (3.4)\n",
      "Requirement already satisfied: pycparser in /Users/ethanpark/anaconda3/lib/python3.10/site-packages (from cffi>=1.12->cryptography>=3.4.0->pyjwt[crypto]>=2.5.0->firebase_admin) (2.21)\n",
      "Requirement already satisfied: pyasn1<0.5.0,>=0.4.6 in /Users/ethanpark/anaconda3/lib/python3.10/site-packages (from pyasn1-modules>=0.2.1->google-auth<3.0.dev0,>=2.14.1->google-api-core[grpc]<3.0.0dev,>=1.22.1->firebase_admin) (0.4.8)\n",
      "Note: you may need to restart the kernel to use updated packages.\n"
     ]
    }
   ],
   "source": [
    "%pip install firebase_admin"
   ]
  },
  {
   "cell_type": "code",
   "execution_count": 2,
   "metadata": {},
   "outputs": [],
   "source": [
    "import firebase_admin\n",
    "from firebase_admin import credentials\n",
    "from firebase_admin import db\n",
    "\n",
    "from helper import find_user, output_error"
   ]
  },
  {
   "cell_type": "code",
   "execution_count": 3,
   "metadata": {},
   "outputs": [],
   "source": [
    "# firebase_admin.delete_app(firebase_admin.get_app())"
   ]
  },
  {
   "cell_type": "code",
   "execution_count": 4,
   "metadata": {},
   "outputs": [],
   "source": [
    "cred = credentials.Certificate(\"./project-d247d-firebase-adminsdk-hpskj-b7566ae1c5.json\")\n",
    "\n",
    "default_app = firebase_admin.initialize_app(cred, {\n",
    "\t'databaseURL': 'https://project-d247d-default-rtdb.firebaseio.com/',\n",
    "})"
   ]
  },
  {
   "cell_type": "code",
   "execution_count": 5,
   "metadata": {},
   "outputs": [],
   "source": [
    "COLLECTION_NAME = 'users'\n",
    "REF = db.reference(COLLECTION_NAME)"
   ]
  },
  {
   "cell_type": "code",
   "execution_count": 10,
   "metadata": {},
   "outputs": [
    {
     "name": "stdout",
     "output_type": "stream",
     "text": [
      "User created successfully!\n"
     ]
    }
   ],
   "source": [
    "# INSERT (PUSH/SET)\n",
    "USER_NAME = 'Patrick'\n",
    "PWD = '123456'\n",
    "FAVORITE_TEAM = 'Los Angeles Dodgers'\n",
    "\n",
    "user_exists = find_user(USER_NAME, REF)\n",
    "if user_exists:\n",
    "    output_error(user_exists)\n",
    "else:\n",
    "    REF.child(USER_NAME).set({\n",
    "        'password': PWD,\n",
    "        'favorite_team': FAVORITE_TEAM\n",
    "    })\n",
    "    print('User created successfully!')"
   ]
  },
  {
   "cell_type": "code",
   "execution_count": 11,
   "metadata": {},
   "outputs": [
    {
     "name": "stdout",
     "output_type": "stream",
     "text": [
      "User updated successfully!\n"
     ]
    }
   ],
   "source": [
    "# UPDATE\n",
    "USER_NAME = 'Ethan'\n",
    "COL = 'favorite_team'\n",
    "UPDATE_TEAM = 'Los Angeles Angels'\n",
    "\n",
    "user_exists = find_user(USER_NAME, REF)\n",
    "if user_exists:\n",
    "    REF.child(USER_NAME).update({\n",
    "        COL: UPDATE_TEAM\n",
    "    })\n",
    "    print('User updated successfully!')\n",
    "else:\n",
    "    output_error(user_exists)\n",
    "    print('User not updated.')"
   ]
  },
  {
   "cell_type": "code",
   "execution_count": 8,
   "metadata": {},
   "outputs": [
    {
     "name": "stdout",
     "output_type": "stream",
     "text": [
      "User deleted successfully!\n"
     ]
    }
   ],
   "source": [
    "# DELETE\n",
    "USER_NAME = 'Ethan'\n",
    "\n",
    "user_exists = find_user(USER_NAME, REF)\n",
    "if user_exists:\n",
    "    REF.child(USER_NAME).delete()\n",
    "    print('User deleted successfully!')\n",
    "else:\n",
    "    output_error(user_exists)\n",
    "    print('User not deleted.')"
   ]
  }
 ],
 "metadata": {
  "kernelspec": {
   "display_name": "base",
   "language": "python",
   "name": "python3"
  },
  "language_info": {
   "codemirror_mode": {
    "name": "ipython",
    "version": 3
   },
   "file_extension": ".py",
   "mimetype": "text/x-python",
   "name": "python",
   "nbconvert_exporter": "python",
   "pygments_lexer": "ipython3",
   "version": "3.10.9"
  }
 },
 "nbformat": 4,
 "nbformat_minor": 2
}
